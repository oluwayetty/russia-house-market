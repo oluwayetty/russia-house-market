{
 "cells": [
  {
   "cell_type": "code",
   "execution_count": 74,
   "metadata": {
    "collapsed": true
   },
   "outputs": [],
   "source": [
    "import pandas as pd\n",
    "import numpy as np\n",
    "from sklearn.tree import DecisionTreeRegressor\n",
    "from sklearn.metrics import accuracy_score\n",
    "\n",
    "\n",
    "CSV_HOME = '../csv/'"
   ]
  },
  {
   "cell_type": "code",
   "execution_count": 59,
   "metadata": {
    "collapsed": true
   },
   "outputs": [],
   "source": [
    "data_train = pd.read_csv(CSV_HOME + 'train.csv')\n",
    "data_test = pd.read_csv(CSV_HOME + 'test.csv')\n",
    "data_columns = [c for c in data_train.columns if (data_train[c].dtype == 'float' and data_train[c].dtype != 'object')]"
   ]
  },
  {
   "cell_type": "code",
   "execution_count": 62,
   "metadata": {
    "collapsed": false
   },
   "outputs": [
    {
     "data": {
      "text/plain": [
       "119"
      ]
     },
     "execution_count": 62,
     "metadata": {},
     "output_type": "execute_result"
    }
   ],
   "source": []
  },
  {
   "cell_type": "code",
   "execution_count": 68,
   "metadata": {
    "collapsed": false
   },
   "outputs": [],
   "source": [
    "def prepare_data(dataset, test = True):\n",
    "    if not test:\n",
    "        X = dataset[data_columns]\n",
    "        X = X[[c for c in X.columns if X[c].dtype!='object']].copy()\n",
    "        y = dataset[dataset.columns[-1]].copy()\n",
    "    else:\n",
    "        X = dataset[data_columns].copy()\n",
    "        y = dataset[dataset.columns[-1]]\n",
    "        \n",
    "    for column in [c for c in X.columns if (X[c].dtype == 'float' and X[c].dtype != 'object')]:\n",
    "        X[column] = X[column].fillna(X[column].median())\n",
    "        \n",
    "    return X, y\n",
    "\n"
   ]
  },
  {
   "cell_type": "code",
   "execution_count": 69,
   "metadata": {
    "collapsed": false
   },
   "outputs": [],
   "source": [
    "X_train, y_train = prepare_data(data_train, test=False)\n",
    "X_test, y_test = prepare_data(data_test, test=True)"
   ]
  },
  {
   "cell_type": "code",
   "execution_count": 84,
   "metadata": {
    "collapsed": false
   },
   "outputs": [],
   "source": [
    "regressor = DecisionTreeRegressor(max_depth=2)\n",
    "regressor.fit(X_train, y_train)\n",
    "y_predict = regressor.predict(X_test)\n",
    "pd.DataFrame({\n",
    "    'id': data_test.id,\n",
    "    'price_doc': y_predict\n",
    "}).to_csv(\"submission.csv\")"
   ]
  },
  {
   "cell_type": "code",
   "execution_count": null,
   "metadata": {
    "collapsed": true
   },
   "outputs": [],
   "source": []
  }
 ],
 "metadata": {
  "kernelspec": {
   "display_name": "Python 2",
   "language": "python",
   "name": "python2"
  },
  "language_info": {
   "codemirror_mode": {
    "name": "ipython",
    "version": 2
   },
   "file_extension": ".py",
   "mimetype": "text/x-python",
   "name": "python",
   "nbconvert_exporter": "python",
   "pygments_lexer": "ipython2",
   "version": "2.7.10"
  }
 },
 "nbformat": 4,
 "nbformat_minor": 2
}
