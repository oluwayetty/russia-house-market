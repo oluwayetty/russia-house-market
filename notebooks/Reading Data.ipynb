{
 "cells": [
  {
   "cell_type": "code",
   "execution_count": 4,
   "metadata": {
    "collapsed": true
   },
   "outputs": [],
   "source": [
    "import os\n",
    "import zipfile\n",
    "\n",
    "import pandas as pd\n",
    "import numpy as np\n",
    "\n",
    "DATA_HOME = '../dataset/'\n",
    "CSV_HOME = '../csv/'"
   ]
  },
  {
   "cell_type": "markdown",
   "metadata": {},
   "source": [
    "### Uncompress CSV files"
   ]
  },
  {
   "cell_type": "code",
   "execution_count": 32,
   "metadata": {},
   "outputs": [
    {
     "name": "stdout",
     "output_type": "stream",
     "text": [
      "extracted train.csv.zip to ../csv/\n",
      "extracted test.csv.zip to ../csv/\n",
      "extracted macro.csv.zip to ../csv/\n"
     ]
    }
   ],
   "source": [
    "def unzip(filename, zip_dir, extract_dir):\n",
    "    # Filename must contain the extension .zip at the end\n",
    "    extract_path = extract_dir + filename.replace(\".zip\", \"\")\n",
    "    if os.path.exists(extract_path):\n",
    "        print(\"%s already exists. Please delete already unzipped file to continue\" % extract_path)\n",
    "        return\n",
    "        \n",
    "    zip_ref = zipfile.ZipFile(zip_dir + filename, 'r')\n",
    "    zip_ref.extractall(extract_dir)\n",
    "    zip_ref.close()\n",
    "    print(\"extracted %s to %s\" % (filename, extract_dir))\n",
    "    \n",
    "unzip('train.csv.zip', DATA_HOME, CSV_HOME)\n",
    "unzip('test.csv.zip', DATA_HOME, CSV_HOME)\n",
    "unzip('macro.csv.zip', DATA_HOME, CSV_HOME)"
   ]
  },
  {
   "cell_type": "code",
   "execution_count": null,
   "metadata": {},
   "outputs": [],
   "source": []
  },
  {
   "cell_type": "code",
   "execution_count": null,
   "metadata": {
    "collapsed": true
   },
   "outputs": [],
   "source": []
  },
  {
   "cell_type": "code",
   "execution_count": null,
   "metadata": {
    "collapsed": true
   },
   "outputs": [],
   "source": []
  }
 ],
 "metadata": {
  "kernelspec": {
   "display_name": "Python 3",
   "language": "python",
   "name": "python3"
  },
  "language_info": {
   "codemirror_mode": {
    "name": "ipython",
    "version": 3
   },
   "file_extension": ".py",
   "mimetype": "text/x-python",
   "name": "python",
   "nbconvert_exporter": "python",
   "pygments_lexer": "ipython3",
   "version": "3.6.0"
  }
 },
 "nbformat": 4,
 "nbformat_minor": 2
}
